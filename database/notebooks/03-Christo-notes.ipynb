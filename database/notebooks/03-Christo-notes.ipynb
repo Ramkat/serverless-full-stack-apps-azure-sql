{
    "metadata": {
        "kernelspec": {
            "name": "SQL",
            "display_name": "SQL",
            "language": "sql"
        },
        "language_info": {
            "name": "sql",
            "version": ""
        }
    },
    "nbformat_minor": 2,
    "nbformat": 4,
    "cells": [
        {
            "cell_type": "markdown",
            "source": [
                "Training <span style=\"color: #0000ff;\">URL</span>:  https:<span style=\"color: #000000;\">//</span>docs.microsoft.com<span style=\"color: #000000;\">/</span>en<span style=\"color: #000000;\">-</span>us<span style=\"color: #000000;\">/</span>learn<span style=\"color: #000000;\">/</span>modules<span style=\"color: #000000;\">/</span><span style=\"color: #0000ff;\">create</span><span style=\"color: #000000;\">-</span>foundation<span style=\"color: #000000;\">-</span>modern<span style=\"color: #000000;\">-</span>apps<span style=\"color: #000000;\">/</span><span style=\"color: #09885a;\">5</span><span style=\"color: #000000;\">-</span>exercise<span style=\"color: #000000;\">-</span>deploy<span style=\"color: #000000;\">-</span>azure<span style=\"color: #000000;\">-</span><span style=\"color: #0000ff;\">sql</span><span style=\"color: #000000;\">-</span><span style=\"color: #0000ff;\">database</span>\n",
                "**For Azure Sandbox**\n",
                "IP <span style=\"color: #0000ff;\">address</span>: <span style=\"color: #09885a;\">105</span>.<span style=\"color: #09885a;\">226</span>.<span style=\"color: #09885a;\">172</span>.<span style=\"color: #09885a;\">107</span>\n",
                "Azure account: [christo.pretorius@gmail.com](mailto:&#99;&#x68;&#114;&#105;&#115;&#116;&#111;&#x2e;&#112;&#114;&#101;&#116;&#x6f;&#x72;&#105;&#117;&#x73;&#64;&#103;&#109;&#x61;&#105;&#108;&#46;&#x63;&#x6f;&#109;)\n",
                "adminSqlLogin <span style=\"color: #000000;\">=</span> <span style=\"color: #a31515;\">\"cloudadmin\"</span>\n",
                "<u>_pwd <span style=\"color: #000000;\">=</span> <span style=\"color: #a31515;\">\"Azur3R0x!\"</span>_</u>\n",
                "$resourceGroupName <span style=\"color: #000000;\">=</span> <span style=\"color: #a31515;\">\"learn-ca873901-eedf-4075-85d3-7fee90a6779c\"</span>\n",
                "$resourceGroup <span style=\"color: #000000;\">=</span> <span style=\"color: #0000ff;\">Get</span><span style=\"color: #000000;\">-</span>AzResourceGroup | <span style=\"color: #0000ff;\">Where</span> ResourceGroupName <span style=\"color: #000000;\">-</span><span style=\"color: #0000ff;\">like</span> $resourceGroupName\n",
                "$uniqueID <span style=\"color: #000000;\">=</span> <span style=\"color: #0000ff;\">Get</span><span style=\"color: #000000;\">-</span>Random <span style=\"color: #000000;\">-</span>Minimum <span style=\"color: #09885a;\">100000</span> <span style=\"color: #000000;\">-</span>Maximum <span style=\"color: #09885a;\">1000000</span>\n",
                "$<span style=\"color: #0000ff;\">location</span> <span style=\"color: #000000;\">=</span> $resourceGroup.Location\n",
                "\\\\# The logical <span style=\"color: #0000ff;\">server</span> <span style=\"color: #0000ff;\">name</span> has <span style=\"color: #0000ff;\">to</span> be <span style=\"color: #0000ff;\">unique</span> <span style=\"color: #0000ff;\">in</span> the <span style=\"color: #0000ff;\">system</span>\n",
                "$serverName <span style=\"color: #000000;\">=</span> <span style=\"color: #a31515;\">\"bus-server</span>_<u><span style=\"color: rgb(9, 136, 90);\">736099</span></u>_<span style=\"color: #a31515;\">\"</span>\n",
                "\\\\# The <span style=\"color: #0000ff;\">sample</span> <span style=\"color: #0000ff;\">database</span> <span style=\"color: #0000ff;\">name</span>\n",
                "$databaseName <span style=\"color: #000000;\">=</span> <span style=\"color: #a31515;\">\"bus-db\"</span>\n",
                "Write<span style=\"color: #000000;\">-</span>Host <span style=\"color: #a31515;\">\"Please&nbsp;note&nbsp;your&nbsp;unique&nbsp;ID&nbsp;for&nbsp;future&nbsp;exercises&nbsp;in&nbsp;this&nbsp;module:\"</span>\n",
                "Please note your <span style=\"color: #0000ff;\">unique</span> ID for future exercises <span style=\"color: #0000ff;\">in</span> this module:\n",
                "_<u>$uniqueID <span style=\"color: #09885a;\">736099</span></u>_\n",
                "Your <span style=\"color: #0000ff;\">resource</span> group <span style=\"color: #0000ff;\">name</span> <span style=\"color: #0000ff;\">is</span>: learn<span style=\"color: #000000;\">-</span>ca873901<span style=\"color: #000000;\">-</span>eedf<span style=\"color: #000000;\">-</span><span style=\"color: #09885a;\">4075</span><span style=\"color: #000000;\">-</span>85d3<span style=\"color: #000000;\">-</span>7fee90a6779c\n",
                "Your resources were deployed <span style=\"color: #0000ff;\">in</span> the <span style=\"color: #0000ff;\">following</span> \\_<span style=\"color: #000000;\">&lt;</span>u<span style=\"color: #000000;\">&gt;</span>region: westus<span style=\"color: #000000;\">&lt;/</span>u<span style=\"color: #000000;\">&gt;</span>\\_\n",
                "Your <span style=\"color: #0000ff;\">server</span> <span style=\"color: #0000ff;\">name</span> <span style=\"color: #0000ff;\">is</span>: bus<span style=\"color: #000000;\">-</span>server736099\n",
                "<span style=\"color: #0000ff;\">MASTER</span> <span style=\"color: #0000ff;\">KEY</span> <span style=\"color: #0000ff;\">ENCRYPTION</span> <span style=\"color: #000000;\">=</span> <span style=\"color: #a31515;\">'mySuperStr0n9P@assw0rd!'</span>"
            ],
            "metadata": {
                "azdata_cell_guid": "bbcec913-0b40-4b09-851b-e905504e15b6",
                "language": ""
            },
            "attachments": {}
        }
    ]
}